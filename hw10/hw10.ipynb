{
  "cells": [
    {
      "cell_type": "markdown",
      "metadata": {
        "id": "view-in-github",
        "colab_type": "text"
      },
      "source": [
        "<a href=\"https://colab.research.google.com/github/fkaimphilat/YAXHSE_coursera_ml/blob/master/hw10/hw10.ipynb\" target=\"_parent\"><img src=\"https://colab.research.google.com/assets/colab-badge.svg\" alt=\"Open In Colab\"/></a>"
      ]
    },
    {
      "cell_type": "markdown",
      "metadata": {
        "id": "1dba7c0d"
      },
      "source": [
        "# **Домашнее задание № 10. Генерация текста**"
      ],
      "id": "1dba7c0d"
    },
    {
      "cell_type": "markdown",
      "metadata": {
        "id": "76f21d5e"
      },
      "source": [
        "# Задание 1 (8 баллов).\n",
        "\n",
        "Попробуйте дообучать GPT на каком-то другом тексте (можете попробовать любые стихи или какие-то специфичные вещи вроде анекдотов, теорий заговоров, постов в помоечных телеграм каналах, текстов журналистов и СМИ с выразительным стилем). \n",
        "Попробуйте разные методы и параметры генерации (beam search, температура, top_k и тп). Сохраните в тетрадке несколько хороших сгенерированных текстов\n"
      ],
      "id": "76f21d5e"
    },
    {
      "cell_type": "code",
      "execution_count": 1,
      "metadata": {
        "colab": {
          "base_uri": "https://localhost:8080/"
        },
        "id": "2444e3fe",
        "outputId": "a93c2f2f-a93d-4730-9e35-8b7c07978b36"
      },
      "outputs": [
        {
          "output_type": "stream",
          "name": "stdout",
          "text": [
            "Looking in indexes: https://pypi.org/simple, https://us-python.pkg.dev/colab-wheels/public/simple/\n",
            "Collecting transformers\n",
            "  Downloading transformers-4.20.0-py3-none-any.whl (4.4 MB)\n",
            "\u001b[K     |████████████████████████████████| 4.4 MB 30.2 MB/s \n",
            "\u001b[?25hRequirement already satisfied: importlib-metadata in /usr/local/lib/python3.7/dist-packages (from transformers) (4.11.4)\n",
            "Requirement already satisfied: filelock in /usr/local/lib/python3.7/dist-packages (from transformers) (3.7.1)\n",
            "Requirement already satisfied: numpy>=1.17 in /usr/local/lib/python3.7/dist-packages (from transformers) (1.21.6)\n",
            "Requirement already satisfied: packaging>=20.0 in /usr/local/lib/python3.7/dist-packages (from transformers) (21.3)\n",
            "Collecting pyyaml>=5.1\n",
            "  Downloading PyYAML-6.0-cp37-cp37m-manylinux_2_5_x86_64.manylinux1_x86_64.manylinux_2_12_x86_64.manylinux2010_x86_64.whl (596 kB)\n",
            "\u001b[K     |████████████████████████████████| 596 kB 68.7 MB/s \n",
            "\u001b[?25hCollecting huggingface-hub<1.0,>=0.1.0\n",
            "  Downloading huggingface_hub-0.7.0-py3-none-any.whl (86 kB)\n",
            "\u001b[K     |████████████████████████████████| 86 kB 7.2 MB/s \n",
            "\u001b[?25hRequirement already satisfied: regex!=2019.12.17 in /usr/local/lib/python3.7/dist-packages (from transformers) (2022.6.2)\n",
            "Requirement already satisfied: requests in /usr/local/lib/python3.7/dist-packages (from transformers) (2.23.0)\n",
            "Collecting tokenizers!=0.11.3,<0.13,>=0.11.1\n",
            "  Downloading tokenizers-0.12.1-cp37-cp37m-manylinux_2_12_x86_64.manylinux2010_x86_64.whl (6.6 MB)\n",
            "\u001b[K     |████████████████████████████████| 6.6 MB 64.1 MB/s \n",
            "\u001b[?25hRequirement already satisfied: tqdm>=4.27 in /usr/local/lib/python3.7/dist-packages (from transformers) (4.64.0)\n",
            "Requirement already satisfied: typing-extensions>=3.7.4.3 in /usr/local/lib/python3.7/dist-packages (from huggingface-hub<1.0,>=0.1.0->transformers) (4.2.0)\n",
            "Requirement already satisfied: pyparsing!=3.0.5,>=2.0.2 in /usr/local/lib/python3.7/dist-packages (from packaging>=20.0->transformers) (3.0.9)\n",
            "Requirement already satisfied: zipp>=0.5 in /usr/local/lib/python3.7/dist-packages (from importlib-metadata->transformers) (3.8.0)\n",
            "Requirement already satisfied: chardet<4,>=3.0.2 in /usr/local/lib/python3.7/dist-packages (from requests->transformers) (3.0.4)\n",
            "Requirement already satisfied: certifi>=2017.4.17 in /usr/local/lib/python3.7/dist-packages (from requests->transformers) (2022.5.18.1)\n",
            "Requirement already satisfied: idna<3,>=2.5 in /usr/local/lib/python3.7/dist-packages (from requests->transformers) (2.10)\n",
            "Requirement already satisfied: urllib3!=1.25.0,!=1.25.1,<1.26,>=1.21.1 in /usr/local/lib/python3.7/dist-packages (from requests->transformers) (1.24.3)\n",
            "Installing collected packages: pyyaml, tokenizers, huggingface-hub, transformers\n",
            "  Attempting uninstall: pyyaml\n",
            "    Found existing installation: PyYAML 3.13\n",
            "    Uninstalling PyYAML-3.13:\n",
            "      Successfully uninstalled PyYAML-3.13\n",
            "Successfully installed huggingface-hub-0.7.0 pyyaml-6.0 tokenizers-0.12.1 transformers-4.20.0\n"
          ]
        }
      ],
      "source": [
        "!pip install transformers"
      ],
      "id": "2444e3fe"
    },
    {
      "cell_type": "code",
      "source": [
        "from google.colab import drive\n",
        "drive.mount('/content/drive')"
      ],
      "metadata": {
        "colab": {
          "base_uri": "https://localhost:8080/"
        },
        "id": "7IsjniaFlWSZ",
        "outputId": "db0f29d9-4163-484e-c328-ca89c0d4849c"
      },
      "id": "7IsjniaFlWSZ",
      "execution_count": 7,
      "outputs": [
        {
          "output_type": "stream",
          "name": "stdout",
          "text": [
            "Mounted at /content/drive\n"
          ]
        }
      ]
    },
    {
      "cell_type": "code",
      "source": [
        "from transformers import GPT2LMHeadModel, GPT2Tokenizer\n",
        "from transformers import Trainer, TrainingArguments\n",
        "from transformers import TextDataset, DataCollatorForLanguageModeling\n",
        "import torch"
      ],
      "metadata": {
        "id": "KmNjRcnKmAd5"
      },
      "id": "KmNjRcnKmAd5",
      "execution_count": 12,
      "outputs": []
    },
    {
      "cell_type": "code",
      "execution_count": 6,
      "metadata": {
        "id": "f07bd89b",
        "colab": {
          "base_uri": "https://localhost:8080/",
          "height": 145,
          "referenced_widgets": [
            "fead2d64c3724dfc880c0cc5768930fc",
            "809c4020e4a242fba986b85029c26678",
            "ebc2eed4ae0a4db4931ec84b094e07aa",
            "5865e581fb6341a0989c9a4fad0a9346",
            "ea9bd219f30f43ec9cbea34eb6f676f0",
            "cf7cafe1fe684361ae338161ed358a53",
            "be1141d7a49743be96872fc85832ed13",
            "17d05903f6b94f539d02a3bedae0248c",
            "37bc64244fbd4329862fffd3cdf1a61c",
            "4c25d48a2d964025b1f7e4914dc57af3",
            "e3ed2fbe3d4a4befa7db60d2aea06421",
            "bca86c6884dd4663a6f939dc6f19b073",
            "a1e1046eff944d2abec473caf96176c8",
            "a173e05b09614e4396d2164c0d90ca33",
            "433589f377274c0097c5ea1aa351a327",
            "b30b433537a142899d77b24aacf59981",
            "7ca2852c9e0b4d09aee51b6702064c53",
            "7c8dd5e8ab494d5ba1ef917641a6b50b",
            "9815b0cb330042db8a69bdd6af9a9d70",
            "3e21b5937ba84bba90ad354ccb0701b0",
            "35a4f8a3aaa749089d1ca5ee58d3af66",
            "8d8081ebcadc4070aafdd3a3aeafd469",
            "446b96b1f4cd4771a7709a29bd1f450c",
            "ddbe2043fe5f4a898260b0134387cc74",
            "9af4d808cb5c4852aa10abd2e4151b8c",
            "6b0f897f550d439da8674a701fd1cd27",
            "d910d26e4b894247b95000ee14ba2688",
            "205ec678c6aa4bd8830a999ed5851af5",
            "776dcfc5c5e54d4fb0af8515639c6b2b",
            "d6fafc151f4840dabd4a32700ab018b3",
            "9abed98b6530471886c698500412755f",
            "b2a1dc1cbadc4bc0b66f9afbdf01308b",
            "76a63c37106244308477ce98400412af",
            "2fcad6c67b014b1fb0a1f94c49a4101a",
            "0c51d68c972940d6b0f80a978475fa50",
            "efead88f35544148993721edb53587de",
            "ef2cf3c6cd1f41a7a63bdea6dcec133c",
            "58fb06c10d624776acc3a2a0e822a9cd",
            "a42037f85f554422bf45419765793a4b",
            "81b6dd76725a4913a3970457885613aa",
            "d0ce9a75d48e432bacb9c644659ae297",
            "4f5f8c7a30b44416a2f100053543ff00",
            "3bd71ce15f204ea382e3696cbae1c6a4",
            "acfc0915094b42059d2a31d87a7c44fa"
          ]
        },
        "outputId": "8be83dc9-03e0-4579-f70c-b10d91e5847c"
      },
      "outputs": [
        {
          "output_type": "display_data",
          "data": {
            "text/plain": [
              "Downloading:   0%|          | 0.00/1.63M [00:00<?, ?B/s]"
            ],
            "application/vnd.jupyter.widget-view+json": {
              "version_major": 2,
              "version_minor": 0,
              "model_id": "fead2d64c3724dfc880c0cc5768930fc"
            }
          },
          "metadata": {}
        },
        {
          "output_type": "display_data",
          "data": {
            "text/plain": [
              "Downloading:   0%|          | 0.00/1.21M [00:00<?, ?B/s]"
            ],
            "application/vnd.jupyter.widget-view+json": {
              "version_major": 2,
              "version_minor": 0,
              "model_id": "bca86c6884dd4663a6f939dc6f19b073"
            }
          },
          "metadata": {}
        },
        {
          "output_type": "display_data",
          "data": {
            "text/plain": [
              "Downloading:   0%|          | 0.00/608 [00:00<?, ?B/s]"
            ],
            "application/vnd.jupyter.widget-view+json": {
              "version_major": 2,
              "version_minor": 0,
              "model_id": "446b96b1f4cd4771a7709a29bd1f450c"
            }
          },
          "metadata": {}
        },
        {
          "output_type": "display_data",
          "data": {
            "text/plain": [
              "Downloading:   0%|          | 0.00/526M [00:00<?, ?B/s]"
            ],
            "application/vnd.jupyter.widget-view+json": {
              "version_major": 2,
              "version_minor": 0,
              "model_id": "2fcad6c67b014b1fb0a1f94c49a4101a"
            }
          },
          "metadata": {}
        }
      ],
      "source": [
        "\n",
        "DEVICE = torch.device(\"cuda:0\")\n",
        "\n",
        "model_name_or_path = \"sberbank-ai/rugpt3small_based_on_gpt2\"\n",
        "tokenizer = GPT2Tokenizer.from_pretrained(model_name_or_path)\n",
        "model = GPT2LMHeadModel.from_pretrained(model_name_or_path, use_cache=False).to(DEVICE)"
      ],
      "id": "f07bd89b"
    },
    {
      "cell_type": "markdown",
      "source": [
        "### **Дообучаем GPT на небольшом сборнике цитат Камы Пули - его характерная речь и язык достаточно необычны и полны особенностей, что должно отразиться в сгенерированных текстах.**"
      ],
      "metadata": {
        "id": "szLHsg0wyoHF"
      },
      "id": "szLHsg0wyoHF"
    },
    {
      "cell_type": "code",
      "source": [
        "train_path = '/content/kama_quotes.txt'"
      ],
      "metadata": {
        "id": "6I71mi-pevbT"
      },
      "id": "6I71mi-pevbT",
      "execution_count": 10,
      "outputs": []
    },
    {
      "cell_type": "code",
      "source": [
        "# Создание датасета\n",
        "train_dataset = TextDataset( tokenizer=tokenizer,file_path=train_path,block_size=64, \n",
        "                            overwrite_cache=True)\n",
        "  \n",
        "# специальный класс который будет подавать в модель данные в нужном ей виде\n",
        "data_collator = DataCollatorForLanguageModeling(tokenizer=tokenizer, mlm=False)"
      ],
      "metadata": {
        "colab": {
          "base_uri": "https://localhost:8080/"
        },
        "id": "hBIvHpkNltdQ",
        "outputId": "63184856-c5b9-470f-e29d-0a6f34bea112"
      },
      "id": "hBIvHpkNltdQ",
      "execution_count": 11,
      "outputs": [
        {
          "output_type": "stream",
          "name": "stderr",
          "text": [
            "/usr/local/lib/python3.7/dist-packages/transformers/data/datasets/language_modeling.py:58: FutureWarning: This dataset will be removed from the library soon, preprocessing should be handled with the 🤗 Datasets library. You can have a look at this example script for pointers: https://github.com/huggingface/transformers/blob/main/examples/pytorch/language-modeling/run_mlm.py\n",
            "  FutureWarning,\n"
          ]
        }
      ]
    },
    {
      "cell_type": "code",
      "source": [
        "training_args = TrainingArguments( \n",
        "    output_dir= \"./finetuned\",\n",
        "    overwrite_output_dir=True,\n",
        "    num_train_epochs=100, \n",
        "    per_device_train_batch_size=32, \n",
        "    per_device_eval_batch_size=32,  \n",
        "    gradient_accumulation_steps=16, \n",
        "    )\n",
        "\n",
        "\n",
        "trainer = Trainer(\n",
        "    model=model,\n",
        "    args=training_args,\n",
        "    data_collator=data_collator,\n",
        "    train_dataset=train_dataset,\n",
        "    optimizers = (torch.optim.AdamW(model.parameters(),lr=1e-5),None) # Optimizer and lr scheduler\n",
        ")"
      ],
      "metadata": {
        "id": "hwIEnGwGmMsk"
      },
      "id": "hwIEnGwGmMsk",
      "execution_count": 13,
      "outputs": []
    },
    {
      "cell_type": "code",
      "source": [
        "trainer.train()"
      ],
      "metadata": {
        "colab": {
          "base_uri": "https://localhost:8080/",
          "height": 328
        },
        "id": "eC9otbfmmN5Y",
        "outputId": "9801203e-0498-4cda-ed47-60401295b23c"
      },
      "id": "eC9otbfmmN5Y",
      "execution_count": 14,
      "outputs": [
        {
          "output_type": "stream",
          "name": "stderr",
          "text": [
            "***** Running training *****\n",
            "  Num examples = 11\n",
            "  Num Epochs = 100\n",
            "  Instantaneous batch size per device = 32\n",
            "  Total train batch size (w. parallel, distributed & accumulation) = 512\n",
            "  Gradient Accumulation steps = 16\n",
            "  Total optimization steps = 100\n"
          ]
        },
        {
          "output_type": "display_data",
          "data": {
            "text/plain": [
              "<IPython.core.display.HTML object>"
            ],
            "text/html": [
              "\n",
              "    <div>\n",
              "      \n",
              "      <progress value='100' max='100' style='width:300px; height:20px; vertical-align: middle;'></progress>\n",
              "      [100/100 00:25, Epoch 100/100]\n",
              "    </div>\n",
              "    <table border=\"1\" class=\"dataframe\">\n",
              "  <thead>\n",
              " <tr style=\"text-align: left;\">\n",
              "      <th>Step</th>\n",
              "      <th>Training Loss</th>\n",
              "    </tr>\n",
              "  </thead>\n",
              "  <tbody>\n",
              "  </tbody>\n",
              "</table><p>"
            ]
          },
          "metadata": {}
        },
        {
          "output_type": "stream",
          "name": "stderr",
          "text": [
            "\n",
            "\n",
            "Training completed. Do not forget to share your model on huggingface.co/models =)\n",
            "\n",
            "\n"
          ]
        },
        {
          "output_type": "execute_result",
          "data": {
            "text/plain": [
              "TrainOutput(global_step=100, training_loss=0.0930668830871582, metrics={'train_runtime': 25.5773, 'train_samples_per_second': 43.007, 'train_steps_per_second': 3.91, 'total_flos': 35927654400000.0, 'train_loss': 0.0930668830871582, 'epoch': 100.0})"
            ]
          },
          "metadata": {},
          "execution_count": 14
        }
      ]
    },
    {
      "cell_type": "code",
      "source": [
        "text1 = 'Я скажу '\n",
        "input_ids1 = tokenizer.encode(text1, return_tensors=\"pt\").to(DEVICE)\n",
        "\n",
        "text2 = 'Слышал '\n",
        "input_ids2 = tokenizer.encode(text2, return_tensors=\"pt\").to(DEVICE)"
      ],
      "metadata": {
        "id": "wj18yCm1objD"
      },
      "id": "wj18yCm1objD",
      "execution_count": 49,
      "outputs": []
    },
    {
      "cell_type": "markdown",
      "source": [
        "## **ArgMax**"
      ],
      "metadata": {
        "id": "_ljqwSqUn0ZX"
      },
      "id": "_ljqwSqUn0ZX"
    },
    {
      "cell_type": "code",
      "source": [
        "with torch.no_grad():\n",
        "    out1 = model.generate(input_ids1, do_sample=False, max_length=50)\n",
        "    out2 = model.generate(input_ids2, do_sample=False, max_length=50)\n",
        "    \n",
        "generated_text1 = list(map(tokenizer.decode, out1))[0]\n",
        "generated_text2 = list(map(tokenizer.decode, out2))[0]\n",
        "print()\n",
        "print(generated_text1, '\\n', generated_text2)"
      ],
      "metadata": {
        "colab": {
          "base_uri": "https://localhost:8080/"
        },
        "id": "V8XaPP17mkoq",
        "outputId": "77156401-3b29-4cf0-a604-0d6271e1d5ef"
      },
      "id": "V8XaPP17mkoq",
      "execution_count": 50,
      "outputs": [
        {
          "output_type": "stream",
          "name": "stderr",
          "text": [
            "The attention mask and the pad token id were not set. As a consequence, you may observe unexpected behavior. Please pass your input's `attention_mask` to obtain reliable results.\n",
            "Setting `pad_token_id` to `eos_token_id`:50256 for open-end generation.\n",
            "The attention mask and the pad token id were not set. As a consequence, you may observe unexpected behavior. Please pass your input's `attention_mask` to obtain reliable results.\n",
            "Setting `pad_token_id` to `eos_token_id`:50256 for open-end generation.\n"
          ]
        },
        {
          "output_type": "stream",
          "name": "stdout",
          "text": [
            "\n",
            "Я скажу  - не надо драматизировать.\n",
            "Я скажу - не надо драматизировать. Вышел ты один. Враг - это отражение. Уходишь бля, бля, бля, бля.\n",
            "Я скажу - не надо драматизировать \n",
            " Слышал  -  у  тебя  есть  девушка  с  деньгами.  Она  тебе  поможет.\n",
            "Она тебе не поможет. Она тебе не поможет с проституткой.\n",
            "Слышал, у тебя есть крошка -\n"
          ]
        }
      ]
    },
    {
      "cell_type": "markdown",
      "source": [
        "### **Хотя уже немного похоже на язык Камы Пули, но до реальной речи не дотягивает. Здесь можно заметить повторение, что, как я предполагаю, есть следствие неполноты данных - наш \"корпус\" все-таки совсем крошечный.**"
      ],
      "metadata": {
        "id": "65zUi003zoPo"
      },
      "id": "65zUi003zoPo"
    },
    {
      "cell_type": "markdown",
      "source": [
        "## **BeamSearch**"
      ],
      "metadata": {
        "id": "WtKNZRxArS8e"
      },
      "id": "WtKNZRxArS8e"
    },
    {
      "cell_type": "markdown",
      "source": [
        "### *Высокий num_beams*"
      ],
      "metadata": {
        "id": "jH6oP7Oq03GF"
      },
      "id": "jH6oP7Oq03GF"
    },
    {
      "cell_type": "code",
      "source": [
        "out1 = model.generate(input_ids1, do_sample=False, num_beams=20, max_length=60)\n",
        "out2 = model.generate(input_ids2, do_sample=False, num_beams=20, max_length=60)\n",
        "\n",
        "generated_text1 = list(map(tokenizer.decode, out1))[0]\n",
        "generated_text2 = list(map(tokenizer.decode, out2))[0]\n",
        "print()\n",
        "print(generated_text1, '\\n', generated_text2)"
      ],
      "metadata": {
        "colab": {
          "base_uri": "https://localhost:8080/"
        },
        "id": "ZUKPbWJVmkui",
        "outputId": "2e3a7307-e573-4c98-f5d7-d6a6ed50f5a4"
      },
      "id": "ZUKPbWJVmkui",
      "execution_count": 53,
      "outputs": [
        {
          "output_type": "stream",
          "name": "stderr",
          "text": [
            "The attention mask and the pad token id were not set. As a consequence, you may observe unexpected behavior. Please pass your input's `attention_mask` to obtain reliable results.\n",
            "Setting `pad_token_id` to `eos_token_id`:50256 for open-end generation.\n",
            "The attention mask and the pad token id were not set. As a consequence, you may observe unexpected behavior. Please pass your input's `attention_mask` to obtain reliable results.\n",
            "Setting `pad_token_id` to `eos_token_id`:50256 for open-end generation.\n"
          ]
        },
        {
          "output_type": "stream",
          "name": "stdout",
          "text": [
            "\n",
            "Я скажу  - жи есть.\n",
            "Есть дерьмо, которое отталкивает.\n",
            "Есть дерьмо, которое отталкивает.\n",
            "Есть дерьмо, которое отталкивает.\n",
            "Есть дерьмо, которое отталкивает.\n",
            "Есть дерьмо, которое отталкивает.\n",
            "Есть дерьмо, которое отталкивает.\n",
            "Есть дерьмо, которое \n",
            " Слышал \n",
            "Слышал \n",
            "Слышал \n",
            "Слышал \n",
            "Слышал \n",
            "Слышал \n",
            "Слышал \n",
            "Слышал \n",
            "Слышал \n",
            "Слышал \n",
            "Слышал \n",
            "Слышал \n",
            "\n"
          ]
        }
      ]
    },
    {
      "cell_type": "markdown",
      "source": [
        "### **Высокий num_beams ломает нормальную генерацию, хотя в начале есть что-то осмысленное.**"
      ],
      "metadata": {
        "id": "5EgEicep0Lp9"
      },
      "id": "5EgEicep0Lp9"
    },
    {
      "cell_type": "markdown",
      "source": [
        "### *Низкий num_beams*"
      ],
      "metadata": {
        "id": "bBZrQvdf0-Wf"
      },
      "id": "bBZrQvdf0-Wf"
    },
    {
      "cell_type": "code",
      "source": [
        "out1 = model.generate(input_ids1, do_sample=False, num_beams=5, max_length=60)\n",
        "out2 = model.generate(input_ids2, do_sample=False, num_beams=5, max_length=60)\n",
        "\n",
        "generated_text1 = list(map(tokenizer.decode, out1))[0]\n",
        "generated_text2 = list(map(tokenizer.decode, out2))[0]\n",
        "print()\n",
        "print(generated_text1, '\\n', generated_text2)"
      ],
      "metadata": {
        "colab": {
          "base_uri": "https://localhost:8080/"
        },
        "id": "3ZYLJWqKta4B",
        "outputId": "ee0e8af1-e3fb-465c-f20a-8d2e68c41991"
      },
      "id": "3ZYLJWqKta4B",
      "execution_count": 54,
      "outputs": [
        {
          "output_type": "stream",
          "name": "stderr",
          "text": [
            "The attention mask and the pad token id were not set. As a consequence, you may observe unexpected behavior. Please pass your input's `attention_mask` to obtain reliable results.\n",
            "Setting `pad_token_id` to `eos_token_id`:50256 for open-end generation.\n",
            "The attention mask and the pad token id were not set. As a consequence, you may observe unexpected behavior. Please pass your input's `attention_mask` to obtain reliable results.\n",
            "Setting `pad_token_id` to `eos_token_id`:50256 for open-end generation.\n"
          ]
        },
        {
          "output_type": "stream",
          "name": "stdout",
          "text": [
            "\n",
            "Я скажу  - не надо драматизировать. Вышел ты один. Враг - это отражение. Выходи один.\n",
            "Не надо драматизировать. Вышел ты один. Враг - это отражение. Выходи один.\n",
            "Не надо драматизировать. Вышел ты один. Вра \n",
            " Слышал  анекдот про двух зайцев: во-первых, не надо драматизировать. Во-вторых, не надо драматизировать. Вышел ты один. Враг - это отражение. Враг - это отражение. Враг - это отражение. Враг - это отражение. Вра\n"
          ]
        }
      ]
    },
    {
      "cell_type": "markdown",
      "source": [
        "### **Низкий num_beams уже делает язык более интресным, но как-то все равно слишком много \"драмы\".**"
      ],
      "metadata": {
        "id": "zramcf5j0edh"
      },
      "id": "zramcf5j0edh"
    },
    {
      "cell_type": "markdown",
      "source": [
        "## **Сэмплирование с Температурой**"
      ],
      "metadata": {
        "id": "6Yv83aR_sRp5"
      },
      "id": "6Yv83aR_sRp5"
    },
    {
      "cell_type": "markdown",
      "source": [
        "### *Низкая температура*"
      ],
      "metadata": {
        "id": "rPk66n6G0udj"
      },
      "id": "rPk66n6G0udj"
    },
    {
      "cell_type": "code",
      "source": [
        "out1 = model.generate(input_ids1, do_sample=True, temperature=0.01, max_length=50)\n",
        "out2 = model.generate(input_ids2, do_sample=True, temperature=0.01, max_length=50)\n",
        "\n",
        "generated_text1 = list(map(tokenizer.decode, out1))[0]\n",
        "generated_text2 = list(map(tokenizer.decode, out2))[0]\n",
        "print()\n",
        "print(generated_text1, '\\n', generated_text2)"
      ],
      "metadata": {
        "colab": {
          "base_uri": "https://localhost:8080/"
        },
        "id": "5fhQP58ssHgk",
        "outputId": "d0e82d26-aac3-4bdb-9f44-d6c6e8a52960"
      },
      "id": "5fhQP58ssHgk",
      "execution_count": 55,
      "outputs": [
        {
          "output_type": "stream",
          "name": "stderr",
          "text": [
            "The attention mask and the pad token id were not set. As a consequence, you may observe unexpected behavior. Please pass your input's `attention_mask` to obtain reliable results.\n",
            "Setting `pad_token_id` to `eos_token_id`:50256 for open-end generation.\n",
            "The attention mask and the pad token id were not set. As a consequence, you may observe unexpected behavior. Please pass your input's `attention_mask` to obtain reliable results.\n",
            "Setting `pad_token_id` to `eos_token_id`:50256 for open-end generation.\n"
          ]
        },
        {
          "output_type": "stream",
          "name": "stdout",
          "text": [
            "\n",
            "Я скажу  - не надо драматизировать.\n",
            "Я скажу - не надо драматизировать. Вышел ты один. Враг - это отражение. Уходишь бля, бля, бля, бля.\n",
            "Я скажу - не надо драматизировать \n",
            " Слышал  -  у  тебя  есть  девушка  с  деньгами.  Она  тебе  поможет.\n",
            "Она тебе не поможет. Она тебе не поможет с проституткой.\n",
            "Слышал, у тебя есть крошка -\n"
          ]
        }
      ]
    },
    {
      "cell_type": "markdown",
      "source": [
        "### *Температура побольше*"
      ],
      "metadata": {
        "id": "elVRZNiq1EZw"
      },
      "id": "elVRZNiq1EZw"
    },
    {
      "cell_type": "code",
      "source": [
        "out1 = model.generate(input_ids1, do_sample=True, temperature=0.6, max_length=50)\n",
        "out2 = model.generate(input_ids2, do_sample=True, temperature=0.6, max_length=50)\n",
        "\n",
        "generated_text1 = list(map(tokenizer.decode, out1))[0]\n",
        "generated_text2 = list(map(tokenizer.decode, out2))[0]\n",
        "print()\n",
        "print(generated_text1, '\\n', generated_text2)"
      ],
      "metadata": {
        "colab": {
          "base_uri": "https://localhost:8080/"
        },
        "id": "b6JSi10utmLk",
        "outputId": "ad2d61fa-4e1b-4885-aad0-f9eb5177e21c"
      },
      "id": "b6JSi10utmLk",
      "execution_count": 56,
      "outputs": [
        {
          "output_type": "stream",
          "name": "stderr",
          "text": [
            "The attention mask and the pad token id were not set. As a consequence, you may observe unexpected behavior. Please pass your input's `attention_mask` to obtain reliable results.\n",
            "Setting `pad_token_id` to `eos_token_id`:50256 for open-end generation.\n",
            "The attention mask and the pad token id were not set. As a consequence, you may observe unexpected behavior. Please pass your input's `attention_mask` to obtain reliable results.\n",
            "Setting `pad_token_id` to `eos_token_id`:50256 for open-end generation.\n"
          ]
        },
        {
          "output_type": "stream",
          "name": "stdout",
          "text": [
            "\n",
            "Я скажу  - это ты у меня в долгу.\n",
            "Не надо драматизировать. Вышел ты один. Враг - это отражение. Уходишь бля, разносишь жи есть.\n",
            "Есть отражение в мелочах. Есть отражение в мело \n",
            " Слышал  ты в  Китае живешь?\n",
            "Я в России родился.\n",
            "Азия - это просто игрушки.\n",
            "Ничего личного - просто бизнес.\n",
            "Слышал, в Китае есть улица, по которой можно ходить?\n",
            "По ней и\n"
          ]
        }
      ]
    },
    {
      "cell_type": "markdown",
      "source": [
        "### *Вообще большая температура жесть...*"
      ],
      "metadata": {
        "id": "qwd25zdx1TG2"
      },
      "id": "qwd25zdx1TG2"
    },
    {
      "cell_type": "code",
      "source": [
        "out1 = model.generate(input_ids1, do_sample=True, temperature=1.5, max_length=50)\n",
        "out2 = model.generate(input_ids2, do_sample=True, temperature=1.5, max_length=50)\n",
        "\n",
        "generated_text1 = list(map(tokenizer.decode, out1))[0]\n",
        "generated_text2 = list(map(tokenizer.decode, out2))[0]\n",
        "print()\n",
        "print(generated_text1, '\\n', generated_text2)"
      ],
      "metadata": {
        "colab": {
          "base_uri": "https://localhost:8080/"
        },
        "id": "Hg35_Ik3txZn",
        "outputId": "9308fe43-6276-4f1f-bb57-b6bf3f711151"
      },
      "id": "Hg35_Ik3txZn",
      "execution_count": 57,
      "outputs": [
        {
          "output_type": "stream",
          "name": "stderr",
          "text": [
            "The attention mask and the pad token id were not set. As a consequence, you may observe unexpected behavior. Please pass your input's `attention_mask` to obtain reliable results.\n",
            "Setting `pad_token_id` to `eos_token_id`:50256 for open-end generation.\n",
            "The attention mask and the pad token id were not set. As a consequence, you may observe unexpected behavior. Please pass your input's `attention_mask` to obtain reliable results.\n",
            "Setting `pad_token_id` to `eos_token_id`:50256 for open-end generation.\n"
          ]
        },
        {
          "output_type": "stream",
          "name": "stdout",
          "text": [
            "\n",
            "Я скажу  - ты даже не поймешь, здесь я или там, и в конце-концов - уже даже не знаю, с какой стороны к тебе подкрасться - со спины, с тыла, или снизу - сбоку».\n",
            "Да хрен с тобой \n",
            " Слышал  тебя приятель  в магазине электроники.\n",
            "Ты с нами или с крошками в тундре. Пока не определились, кто ты есть, не обессудь.\n",
            "Америкосы в каменном веке отдыхают.\n",
            "\n"
          ]
        }
      ]
    },
    {
      "cell_type": "markdown",
      "source": [
        "### **Как ни странно, высокая температура дала очень не плохой сгенерированный текст, однако в тексте заметны ошибки.**"
      ],
      "metadata": {
        "id": "EiLVQJh41d8h"
      },
      "id": "EiLVQJh41d8h"
    },
    {
      "cell_type": "markdown",
      "source": [
        "## **top_k**\n"
      ],
      "metadata": {
        "id": "WY_3R4M5uOEL"
      },
      "id": "WY_3R4M5uOEL"
    },
    {
      "cell_type": "code",
      "source": [
        "out1 = model.generate(input_ids1, \n",
        "                     do_sample=True,\n",
        "                     temperature=1.5,\n",
        "                     top_k=20,\n",
        "                     max_length=50,\n",
        "                    )\n",
        "\n",
        "out2 = model.generate(input_ids2, \n",
        "                     do_sample=True,\n",
        "                     temperature=1.5,\n",
        "                     top_k=20,\n",
        "                     max_length=50,\n",
        "                    )\n",
        "\n",
        "generated_text1 = list(map(tokenizer.decode, out1))[0]\n",
        "generated_text2 = list(map(tokenizer.decode, out2))[0]\n",
        "print()\n",
        "print(generated_text1, '\\n', generated_text2)"
      ],
      "metadata": {
        "colab": {
          "base_uri": "https://localhost:8080/"
        },
        "id": "VDw-oWQxuSlC",
        "outputId": "ad49897b-161c-4443-e22b-5ce448ffb439"
      },
      "id": "VDw-oWQxuSlC",
      "execution_count": 58,
      "outputs": [
        {
          "output_type": "stream",
          "name": "stderr",
          "text": [
            "The attention mask and the pad token id were not set. As a consequence, you may observe unexpected behavior. Please pass your input's `attention_mask` to obtain reliable results.\n",
            "Setting `pad_token_id` to `eos_token_id`:50256 for open-end generation.\n",
            "The attention mask and the pad token id were not set. As a consequence, you may observe unexpected behavior. Please pass your input's `attention_mask` to obtain reliable results.\n",
            "Setting `pad_token_id` to `eos_token_id`:50256 for open-end generation.\n"
          ]
        },
        {
          "output_type": "stream",
          "name": "stdout",
          "text": [
            "\n",
            "Я скажу  тебе вещи, которых я в тебя не смыслю. Не хочу обидеть тех, кого знаю, - они друзья - или враги, или любовники. Все мы разные и не всегда люди равные.\n",
            "Любой человек создан для жизни, \n",
            " Слышал  я одного человека с большой буквы, кто бы знал, с какой легкостью я к этому не прикоснусь!\n",
            "Слышал я, что один Бог создал одного Люцифа с Большой Грешной Книгой Судеб.\n",
            "Не обессудь\n"
          ]
        }
      ]
    },
    {
      "cell_type": "markdown",
      "source": [
        "### **Изменение параметра top_k уже позволило создать текст с меньшим количеством ошибок - он не только похож на реальные цитаты Камы Пули, но и имеет какой-то смысл. В конце концов, все мы разные и не всегда люди равные.**"
      ],
      "metadata": {
        "id": "NGjvvcQ_1zcP"
      },
      "id": "NGjvvcQ_1zcP"
    },
    {
      "cell_type": "markdown",
      "metadata": {
        "id": "ae8437e8"
      },
      "source": [
        "# Задание  2 (2 балла)\n"
      ],
      "id": "ae8437e8"
    },
    {
      "cell_type": "markdown",
      "source": [
        "**1) В каких статья были представлены GPT-1, GPT-2, GPT-3?**"
      ],
      "metadata": {
        "id": "GnEo4rxRwbBm"
      },
      "id": "GnEo4rxRwbBm"
    },
    {
      "cell_type": "markdown",
      "source": [
        "GPT-1: https://cdn.openai.com/research-covers/language-unsupervised/language_understanding_paper.pdf\n",
        "\n",
        "GPT-2: https://cdn.openai.com/better-language-models/language_models_are_unsupervised_multitask_learners.pdf\n",
        "\n",
        "GPT-3: https://arxiv.org/pdf/2005.14165.pdf"
      ],
      "metadata": {
        "id": "aSw0b4JKvQZK"
      },
      "id": "aSw0b4JKvQZK"
    },
    {
      "cell_type": "markdown",
      "source": [
        "\n",
        "**2) Как собирался обучающий корпус для GPT-3? Каким образом создатели старались обеспечить высокое качество текстов в обучающей выборке?**"
      ],
      "metadata": {
        "id": "1gteamI9wfw9"
      },
      "id": "1gteamI9wfw9"
    },
    {
      "cell_type": "markdown",
      "source": [
        "Шестьдесят процентов набора данных для предварительного обучения GPT-3 составляет отфильтрованная версия Common Crawl, состоящая из 410 миллиардов закодированных лексем в байтовых парах. Другими источниками являются 19 миллиардов лексем из WebText2, что составляет 22% от общего количества, 12 миллиардов лексем из Books1, что составляет 8%, 55 миллиардов лексем из Books2, что составляет 8%, и 3 миллиарда лексем из Wikipedia, что составляет 3%. GPT-3 был обучен на сотнях миллиардов слов и способен выполнять кодирование на CSS, JSX, Python и т.д. В обзоре 2022 года вновь подчеркивается, что обучение продолжает включать обзор Википедии.\n",
        "\n",
        "Было предпринято 3 шага для улучшения среднего качества датасетов: была загружена версия CommonCrawl и отфильтрована на основе сходства с рядом высококачественных опорных корпусов, была выполнена fuzzy дедупликация на уровне документов, внутри и между наборами данных, чтобы предотвратить избыточность и сохранить целостность удерживаемого валидационного набора в качестве точной меры overfitting, а также добавлены известные качественные корпуса в обучающую выборку (выше), чтобы дополнить CommonCrawl и увеличить его разнообразие.\n"
      ],
      "metadata": {
        "id": "aZci_ukxxTB2"
      },
      "id": "aZci_ukxxTB2"
    }
  ],
  "metadata": {
    "accelerator": "GPU",
    "colab": {
      "name": "hw10",
      "provenance": [],
      "include_colab_link": true
    },
    "gpuClass": "standard",
    "kernelspec": {
      "display_name": "Python 3 (ipykernel)",
      "language": "python",
      "name": "python3"
    },
    "language_info": {
      "codemirror_mode": {
        "name": "ipython",
        "version": 3
      },
      "file_extension": ".py",
      "mimetype": "text/x-python",
      "name": "python",
      "nbconvert_exporter": "python",
      "pygments_lexer": "ipython3",
      "version": "3.8.12"
    },
    "widgets": {
      "application/vnd.jupyter.widget-state+json": {
        "fead2d64c3724dfc880c0cc5768930fc": {
          "model_module": "@jupyter-widgets/controls",
          "model_name": "HBoxModel",
          "model_module_version": "1.5.0",
          "state": {
            "_dom_classes": [],
            "_model_module": "@jupyter-widgets/controls",
            "_model_module_version": "1.5.0",
            "_model_name": "HBoxModel",
            "_view_count": null,
            "_view_module": "@jupyter-widgets/controls",
            "_view_module_version": "1.5.0",
            "_view_name": "HBoxView",
            "box_style": "",
            "children": [
              "IPY_MODEL_809c4020e4a242fba986b85029c26678",
              "IPY_MODEL_ebc2eed4ae0a4db4931ec84b094e07aa",
              "IPY_MODEL_5865e581fb6341a0989c9a4fad0a9346"
            ],
            "layout": "IPY_MODEL_ea9bd219f30f43ec9cbea34eb6f676f0"
          }
        },
        "809c4020e4a242fba986b85029c26678": {
          "model_module": "@jupyter-widgets/controls",
          "model_name": "HTMLModel",
          "model_module_version": "1.5.0",
          "state": {
            "_dom_classes": [],
            "_model_module": "@jupyter-widgets/controls",
            "_model_module_version": "1.5.0",
            "_model_name": "HTMLModel",
            "_view_count": null,
            "_view_module": "@jupyter-widgets/controls",
            "_view_module_version": "1.5.0",
            "_view_name": "HTMLView",
            "description": "",
            "description_tooltip": null,
            "layout": "IPY_MODEL_cf7cafe1fe684361ae338161ed358a53",
            "placeholder": "​",
            "style": "IPY_MODEL_be1141d7a49743be96872fc85832ed13",
            "value": "Downloading: 100%"
          }
        },
        "ebc2eed4ae0a4db4931ec84b094e07aa": {
          "model_module": "@jupyter-widgets/controls",
          "model_name": "FloatProgressModel",
          "model_module_version": "1.5.0",
          "state": {
            "_dom_classes": [],
            "_model_module": "@jupyter-widgets/controls",
            "_model_module_version": "1.5.0",
            "_model_name": "FloatProgressModel",
            "_view_count": null,
            "_view_module": "@jupyter-widgets/controls",
            "_view_module_version": "1.5.0",
            "_view_name": "ProgressView",
            "bar_style": "success",
            "description": "",
            "description_tooltip": null,
            "layout": "IPY_MODEL_17d05903f6b94f539d02a3bedae0248c",
            "max": 1713123,
            "min": 0,
            "orientation": "horizontal",
            "style": "IPY_MODEL_37bc64244fbd4329862fffd3cdf1a61c",
            "value": 1713123
          }
        },
        "5865e581fb6341a0989c9a4fad0a9346": {
          "model_module": "@jupyter-widgets/controls",
          "model_name": "HTMLModel",
          "model_module_version": "1.5.0",
          "state": {
            "_dom_classes": [],
            "_model_module": "@jupyter-widgets/controls",
            "_model_module_version": "1.5.0",
            "_model_name": "HTMLModel",
            "_view_count": null,
            "_view_module": "@jupyter-widgets/controls",
            "_view_module_version": "1.5.0",
            "_view_name": "HTMLView",
            "description": "",
            "description_tooltip": null,
            "layout": "IPY_MODEL_4c25d48a2d964025b1f7e4914dc57af3",
            "placeholder": "​",
            "style": "IPY_MODEL_e3ed2fbe3d4a4befa7db60d2aea06421",
            "value": " 1.63M/1.63M [00:00&lt;00:00, 21.8MB/s]"
          }
        },
        "ea9bd219f30f43ec9cbea34eb6f676f0": {
          "model_module": "@jupyter-widgets/base",
          "model_name": "LayoutModel",
          "model_module_version": "1.2.0",
          "state": {
            "_model_module": "@jupyter-widgets/base",
            "_model_module_version": "1.2.0",
            "_model_name": "LayoutModel",
            "_view_count": null,
            "_view_module": "@jupyter-widgets/base",
            "_view_module_version": "1.2.0",
            "_view_name": "LayoutView",
            "align_content": null,
            "align_items": null,
            "align_self": null,
            "border": null,
            "bottom": null,
            "display": null,
            "flex": null,
            "flex_flow": null,
            "grid_area": null,
            "grid_auto_columns": null,
            "grid_auto_flow": null,
            "grid_auto_rows": null,
            "grid_column": null,
            "grid_gap": null,
            "grid_row": null,
            "grid_template_areas": null,
            "grid_template_columns": null,
            "grid_template_rows": null,
            "height": null,
            "justify_content": null,
            "justify_items": null,
            "left": null,
            "margin": null,
            "max_height": null,
            "max_width": null,
            "min_height": null,
            "min_width": null,
            "object_fit": null,
            "object_position": null,
            "order": null,
            "overflow": null,
            "overflow_x": null,
            "overflow_y": null,
            "padding": null,
            "right": null,
            "top": null,
            "visibility": null,
            "width": null
          }
        },
        "cf7cafe1fe684361ae338161ed358a53": {
          "model_module": "@jupyter-widgets/base",
          "model_name": "LayoutModel",
          "model_module_version": "1.2.0",
          "state": {
            "_model_module": "@jupyter-widgets/base",
            "_model_module_version": "1.2.0",
            "_model_name": "LayoutModel",
            "_view_count": null,
            "_view_module": "@jupyter-widgets/base",
            "_view_module_version": "1.2.0",
            "_view_name": "LayoutView",
            "align_content": null,
            "align_items": null,
            "align_self": null,
            "border": null,
            "bottom": null,
            "display": null,
            "flex": null,
            "flex_flow": null,
            "grid_area": null,
            "grid_auto_columns": null,
            "grid_auto_flow": null,
            "grid_auto_rows": null,
            "grid_column": null,
            "grid_gap": null,
            "grid_row": null,
            "grid_template_areas": null,
            "grid_template_columns": null,
            "grid_template_rows": null,
            "height": null,
            "justify_content": null,
            "justify_items": null,
            "left": null,
            "margin": null,
            "max_height": null,
            "max_width": null,
            "min_height": null,
            "min_width": null,
            "object_fit": null,
            "object_position": null,
            "order": null,
            "overflow": null,
            "overflow_x": null,
            "overflow_y": null,
            "padding": null,
            "right": null,
            "top": null,
            "visibility": null,
            "width": null
          }
        },
        "be1141d7a49743be96872fc85832ed13": {
          "model_module": "@jupyter-widgets/controls",
          "model_name": "DescriptionStyleModel",
          "model_module_version": "1.5.0",
          "state": {
            "_model_module": "@jupyter-widgets/controls",
            "_model_module_version": "1.5.0",
            "_model_name": "DescriptionStyleModel",
            "_view_count": null,
            "_view_module": "@jupyter-widgets/base",
            "_view_module_version": "1.2.0",
            "_view_name": "StyleView",
            "description_width": ""
          }
        },
        "17d05903f6b94f539d02a3bedae0248c": {
          "model_module": "@jupyter-widgets/base",
          "model_name": "LayoutModel",
          "model_module_version": "1.2.0",
          "state": {
            "_model_module": "@jupyter-widgets/base",
            "_model_module_version": "1.2.0",
            "_model_name": "LayoutModel",
            "_view_count": null,
            "_view_module": "@jupyter-widgets/base",
            "_view_module_version": "1.2.0",
            "_view_name": "LayoutView",
            "align_content": null,
            "align_items": null,
            "align_self": null,
            "border": null,
            "bottom": null,
            "display": null,
            "flex": null,
            "flex_flow": null,
            "grid_area": null,
            "grid_auto_columns": null,
            "grid_auto_flow": null,
            "grid_auto_rows": null,
            "grid_column": null,
            "grid_gap": null,
            "grid_row": null,
            "grid_template_areas": null,
            "grid_template_columns": null,
            "grid_template_rows": null,
            "height": null,
            "justify_content": null,
            "justify_items": null,
            "left": null,
            "margin": null,
            "max_height": null,
            "max_width": null,
            "min_height": null,
            "min_width": null,
            "object_fit": null,
            "object_position": null,
            "order": null,
            "overflow": null,
            "overflow_x": null,
            "overflow_y": null,
            "padding": null,
            "right": null,
            "top": null,
            "visibility": null,
            "width": null
          }
        },
        "37bc64244fbd4329862fffd3cdf1a61c": {
          "model_module": "@jupyter-widgets/controls",
          "model_name": "ProgressStyleModel",
          "model_module_version": "1.5.0",
          "state": {
            "_model_module": "@jupyter-widgets/controls",
            "_model_module_version": "1.5.0",
            "_model_name": "ProgressStyleModel",
            "_view_count": null,
            "_view_module": "@jupyter-widgets/base",
            "_view_module_version": "1.2.0",
            "_view_name": "StyleView",
            "bar_color": null,
            "description_width": ""
          }
        },
        "4c25d48a2d964025b1f7e4914dc57af3": {
          "model_module": "@jupyter-widgets/base",
          "model_name": "LayoutModel",
          "model_module_version": "1.2.0",
          "state": {
            "_model_module": "@jupyter-widgets/base",
            "_model_module_version": "1.2.0",
            "_model_name": "LayoutModel",
            "_view_count": null,
            "_view_module": "@jupyter-widgets/base",
            "_view_module_version": "1.2.0",
            "_view_name": "LayoutView",
            "align_content": null,
            "align_items": null,
            "align_self": null,
            "border": null,
            "bottom": null,
            "display": null,
            "flex": null,
            "flex_flow": null,
            "grid_area": null,
            "grid_auto_columns": null,
            "grid_auto_flow": null,
            "grid_auto_rows": null,
            "grid_column": null,
            "grid_gap": null,
            "grid_row": null,
            "grid_template_areas": null,
            "grid_template_columns": null,
            "grid_template_rows": null,
            "height": null,
            "justify_content": null,
            "justify_items": null,
            "left": null,
            "margin": null,
            "max_height": null,
            "max_width": null,
            "min_height": null,
            "min_width": null,
            "object_fit": null,
            "object_position": null,
            "order": null,
            "overflow": null,
            "overflow_x": null,
            "overflow_y": null,
            "padding": null,
            "right": null,
            "top": null,
            "visibility": null,
            "width": null
          }
        },
        "e3ed2fbe3d4a4befa7db60d2aea06421": {
          "model_module": "@jupyter-widgets/controls",
          "model_name": "DescriptionStyleModel",
          "model_module_version": "1.5.0",
          "state": {
            "_model_module": "@jupyter-widgets/controls",
            "_model_module_version": "1.5.0",
            "_model_name": "DescriptionStyleModel",
            "_view_count": null,
            "_view_module": "@jupyter-widgets/base",
            "_view_module_version": "1.2.0",
            "_view_name": "StyleView",
            "description_width": ""
          }
        },
        "bca86c6884dd4663a6f939dc6f19b073": {
          "model_module": "@jupyter-widgets/controls",
          "model_name": "HBoxModel",
          "model_module_version": "1.5.0",
          "state": {
            "_dom_classes": [],
            "_model_module": "@jupyter-widgets/controls",
            "_model_module_version": "1.5.0",
            "_model_name": "HBoxModel",
            "_view_count": null,
            "_view_module": "@jupyter-widgets/controls",
            "_view_module_version": "1.5.0",
            "_view_name": "HBoxView",
            "box_style": "",
            "children": [
              "IPY_MODEL_a1e1046eff944d2abec473caf96176c8",
              "IPY_MODEL_a173e05b09614e4396d2164c0d90ca33",
              "IPY_MODEL_433589f377274c0097c5ea1aa351a327"
            ],
            "layout": "IPY_MODEL_b30b433537a142899d77b24aacf59981"
          }
        },
        "a1e1046eff944d2abec473caf96176c8": {
          "model_module": "@jupyter-widgets/controls",
          "model_name": "HTMLModel",
          "model_module_version": "1.5.0",
          "state": {
            "_dom_classes": [],
            "_model_module": "@jupyter-widgets/controls",
            "_model_module_version": "1.5.0",
            "_model_name": "HTMLModel",
            "_view_count": null,
            "_view_module": "@jupyter-widgets/controls",
            "_view_module_version": "1.5.0",
            "_view_name": "HTMLView",
            "description": "",
            "description_tooltip": null,
            "layout": "IPY_MODEL_7ca2852c9e0b4d09aee51b6702064c53",
            "placeholder": "​",
            "style": "IPY_MODEL_7c8dd5e8ab494d5ba1ef917641a6b50b",
            "value": "Downloading: 100%"
          }
        },
        "a173e05b09614e4396d2164c0d90ca33": {
          "model_module": "@jupyter-widgets/controls",
          "model_name": "FloatProgressModel",
          "model_module_version": "1.5.0",
          "state": {
            "_dom_classes": [],
            "_model_module": "@jupyter-widgets/controls",
            "_model_module_version": "1.5.0",
            "_model_name": "FloatProgressModel",
            "_view_count": null,
            "_view_module": "@jupyter-widgets/controls",
            "_view_module_version": "1.5.0",
            "_view_name": "ProgressView",
            "bar_style": "success",
            "description": "",
            "description_tooltip": null,
            "layout": "IPY_MODEL_9815b0cb330042db8a69bdd6af9a9d70",
            "max": 1270925,
            "min": 0,
            "orientation": "horizontal",
            "style": "IPY_MODEL_3e21b5937ba84bba90ad354ccb0701b0",
            "value": 1270925
          }
        },
        "433589f377274c0097c5ea1aa351a327": {
          "model_module": "@jupyter-widgets/controls",
          "model_name": "HTMLModel",
          "model_module_version": "1.5.0",
          "state": {
            "_dom_classes": [],
            "_model_module": "@jupyter-widgets/controls",
            "_model_module_version": "1.5.0",
            "_model_name": "HTMLModel",
            "_view_count": null,
            "_view_module": "@jupyter-widgets/controls",
            "_view_module_version": "1.5.0",
            "_view_name": "HTMLView",
            "description": "",
            "description_tooltip": null,
            "layout": "IPY_MODEL_35a4f8a3aaa749089d1ca5ee58d3af66",
            "placeholder": "​",
            "style": "IPY_MODEL_8d8081ebcadc4070aafdd3a3aeafd469",
            "value": " 1.21M/1.21M [00:00&lt;00:00, 16.9MB/s]"
          }
        },
        "b30b433537a142899d77b24aacf59981": {
          "model_module": "@jupyter-widgets/base",
          "model_name": "LayoutModel",
          "model_module_version": "1.2.0",
          "state": {
            "_model_module": "@jupyter-widgets/base",
            "_model_module_version": "1.2.0",
            "_model_name": "LayoutModel",
            "_view_count": null,
            "_view_module": "@jupyter-widgets/base",
            "_view_module_version": "1.2.0",
            "_view_name": "LayoutView",
            "align_content": null,
            "align_items": null,
            "align_self": null,
            "border": null,
            "bottom": null,
            "display": null,
            "flex": null,
            "flex_flow": null,
            "grid_area": null,
            "grid_auto_columns": null,
            "grid_auto_flow": null,
            "grid_auto_rows": null,
            "grid_column": null,
            "grid_gap": null,
            "grid_row": null,
            "grid_template_areas": null,
            "grid_template_columns": null,
            "grid_template_rows": null,
            "height": null,
            "justify_content": null,
            "justify_items": null,
            "left": null,
            "margin": null,
            "max_height": null,
            "max_width": null,
            "min_height": null,
            "min_width": null,
            "object_fit": null,
            "object_position": null,
            "order": null,
            "overflow": null,
            "overflow_x": null,
            "overflow_y": null,
            "padding": null,
            "right": null,
            "top": null,
            "visibility": null,
            "width": null
          }
        },
        "7ca2852c9e0b4d09aee51b6702064c53": {
          "model_module": "@jupyter-widgets/base",
          "model_name": "LayoutModel",
          "model_module_version": "1.2.0",
          "state": {
            "_model_module": "@jupyter-widgets/base",
            "_model_module_version": "1.2.0",
            "_model_name": "LayoutModel",
            "_view_count": null,
            "_view_module": "@jupyter-widgets/base",
            "_view_module_version": "1.2.0",
            "_view_name": "LayoutView",
            "align_content": null,
            "align_items": null,
            "align_self": null,
            "border": null,
            "bottom": null,
            "display": null,
            "flex": null,
            "flex_flow": null,
            "grid_area": null,
            "grid_auto_columns": null,
            "grid_auto_flow": null,
            "grid_auto_rows": null,
            "grid_column": null,
            "grid_gap": null,
            "grid_row": null,
            "grid_template_areas": null,
            "grid_template_columns": null,
            "grid_template_rows": null,
            "height": null,
            "justify_content": null,
            "justify_items": null,
            "left": null,
            "margin": null,
            "max_height": null,
            "max_width": null,
            "min_height": null,
            "min_width": null,
            "object_fit": null,
            "object_position": null,
            "order": null,
            "overflow": null,
            "overflow_x": null,
            "overflow_y": null,
            "padding": null,
            "right": null,
            "top": null,
            "visibility": null,
            "width": null
          }
        },
        "7c8dd5e8ab494d5ba1ef917641a6b50b": {
          "model_module": "@jupyter-widgets/controls",
          "model_name": "DescriptionStyleModel",
          "model_module_version": "1.5.0",
          "state": {
            "_model_module": "@jupyter-widgets/controls",
            "_model_module_version": "1.5.0",
            "_model_name": "DescriptionStyleModel",
            "_view_count": null,
            "_view_module": "@jupyter-widgets/base",
            "_view_module_version": "1.2.0",
            "_view_name": "StyleView",
            "description_width": ""
          }
        },
        "9815b0cb330042db8a69bdd6af9a9d70": {
          "model_module": "@jupyter-widgets/base",
          "model_name": "LayoutModel",
          "model_module_version": "1.2.0",
          "state": {
            "_model_module": "@jupyter-widgets/base",
            "_model_module_version": "1.2.0",
            "_model_name": "LayoutModel",
            "_view_count": null,
            "_view_module": "@jupyter-widgets/base",
            "_view_module_version": "1.2.0",
            "_view_name": "LayoutView",
            "align_content": null,
            "align_items": null,
            "align_self": null,
            "border": null,
            "bottom": null,
            "display": null,
            "flex": null,
            "flex_flow": null,
            "grid_area": null,
            "grid_auto_columns": null,
            "grid_auto_flow": null,
            "grid_auto_rows": null,
            "grid_column": null,
            "grid_gap": null,
            "grid_row": null,
            "grid_template_areas": null,
            "grid_template_columns": null,
            "grid_template_rows": null,
            "height": null,
            "justify_content": null,
            "justify_items": null,
            "left": null,
            "margin": null,
            "max_height": null,
            "max_width": null,
            "min_height": null,
            "min_width": null,
            "object_fit": null,
            "object_position": null,
            "order": null,
            "overflow": null,
            "overflow_x": null,
            "overflow_y": null,
            "padding": null,
            "right": null,
            "top": null,
            "visibility": null,
            "width": null
          }
        },
        "3e21b5937ba84bba90ad354ccb0701b0": {
          "model_module": "@jupyter-widgets/controls",
          "model_name": "ProgressStyleModel",
          "model_module_version": "1.5.0",
          "state": {
            "_model_module": "@jupyter-widgets/controls",
            "_model_module_version": "1.5.0",
            "_model_name": "ProgressStyleModel",
            "_view_count": null,
            "_view_module": "@jupyter-widgets/base",
            "_view_module_version": "1.2.0",
            "_view_name": "StyleView",
            "bar_color": null,
            "description_width": ""
          }
        },
        "35a4f8a3aaa749089d1ca5ee58d3af66": {
          "model_module": "@jupyter-widgets/base",
          "model_name": "LayoutModel",
          "model_module_version": "1.2.0",
          "state": {
            "_model_module": "@jupyter-widgets/base",
            "_model_module_version": "1.2.0",
            "_model_name": "LayoutModel",
            "_view_count": null,
            "_view_module": "@jupyter-widgets/base",
            "_view_module_version": "1.2.0",
            "_view_name": "LayoutView",
            "align_content": null,
            "align_items": null,
            "align_self": null,
            "border": null,
            "bottom": null,
            "display": null,
            "flex": null,
            "flex_flow": null,
            "grid_area": null,
            "grid_auto_columns": null,
            "grid_auto_flow": null,
            "grid_auto_rows": null,
            "grid_column": null,
            "grid_gap": null,
            "grid_row": null,
            "grid_template_areas": null,
            "grid_template_columns": null,
            "grid_template_rows": null,
            "height": null,
            "justify_content": null,
            "justify_items": null,
            "left": null,
            "margin": null,
            "max_height": null,
            "max_width": null,
            "min_height": null,
            "min_width": null,
            "object_fit": null,
            "object_position": null,
            "order": null,
            "overflow": null,
            "overflow_x": null,
            "overflow_y": null,
            "padding": null,
            "right": null,
            "top": null,
            "visibility": null,
            "width": null
          }
        },
        "8d8081ebcadc4070aafdd3a3aeafd469": {
          "model_module": "@jupyter-widgets/controls",
          "model_name": "DescriptionStyleModel",
          "model_module_version": "1.5.0",
          "state": {
            "_model_module": "@jupyter-widgets/controls",
            "_model_module_version": "1.5.0",
            "_model_name": "DescriptionStyleModel",
            "_view_count": null,
            "_view_module": "@jupyter-widgets/base",
            "_view_module_version": "1.2.0",
            "_view_name": "StyleView",
            "description_width": ""
          }
        },
        "446b96b1f4cd4771a7709a29bd1f450c": {
          "model_module": "@jupyter-widgets/controls",
          "model_name": "HBoxModel",
          "model_module_version": "1.5.0",
          "state": {
            "_dom_classes": [],
            "_model_module": "@jupyter-widgets/controls",
            "_model_module_version": "1.5.0",
            "_model_name": "HBoxModel",
            "_view_count": null,
            "_view_module": "@jupyter-widgets/controls",
            "_view_module_version": "1.5.0",
            "_view_name": "HBoxView",
            "box_style": "",
            "children": [
              "IPY_MODEL_ddbe2043fe5f4a898260b0134387cc74",
              "IPY_MODEL_9af4d808cb5c4852aa10abd2e4151b8c",
              "IPY_MODEL_6b0f897f550d439da8674a701fd1cd27"
            ],
            "layout": "IPY_MODEL_d910d26e4b894247b95000ee14ba2688"
          }
        },
        "ddbe2043fe5f4a898260b0134387cc74": {
          "model_module": "@jupyter-widgets/controls",
          "model_name": "HTMLModel",
          "model_module_version": "1.5.0",
          "state": {
            "_dom_classes": [],
            "_model_module": "@jupyter-widgets/controls",
            "_model_module_version": "1.5.0",
            "_model_name": "HTMLModel",
            "_view_count": null,
            "_view_module": "@jupyter-widgets/controls",
            "_view_module_version": "1.5.0",
            "_view_name": "HTMLView",
            "description": "",
            "description_tooltip": null,
            "layout": "IPY_MODEL_205ec678c6aa4bd8830a999ed5851af5",
            "placeholder": "​",
            "style": "IPY_MODEL_776dcfc5c5e54d4fb0af8515639c6b2b",
            "value": "Downloading: 100%"
          }
        },
        "9af4d808cb5c4852aa10abd2e4151b8c": {
          "model_module": "@jupyter-widgets/controls",
          "model_name": "FloatProgressModel",
          "model_module_version": "1.5.0",
          "state": {
            "_dom_classes": [],
            "_model_module": "@jupyter-widgets/controls",
            "_model_module_version": "1.5.0",
            "_model_name": "FloatProgressModel",
            "_view_count": null,
            "_view_module": "@jupyter-widgets/controls",
            "_view_module_version": "1.5.0",
            "_view_name": "ProgressView",
            "bar_style": "success",
            "description": "",
            "description_tooltip": null,
            "layout": "IPY_MODEL_d6fafc151f4840dabd4a32700ab018b3",
            "max": 608,
            "min": 0,
            "orientation": "horizontal",
            "style": "IPY_MODEL_9abed98b6530471886c698500412755f",
            "value": 608
          }
        },
        "6b0f897f550d439da8674a701fd1cd27": {
          "model_module": "@jupyter-widgets/controls",
          "model_name": "HTMLModel",
          "model_module_version": "1.5.0",
          "state": {
            "_dom_classes": [],
            "_model_module": "@jupyter-widgets/controls",
            "_model_module_version": "1.5.0",
            "_model_name": "HTMLModel",
            "_view_count": null,
            "_view_module": "@jupyter-widgets/controls",
            "_view_module_version": "1.5.0",
            "_view_name": "HTMLView",
            "description": "",
            "description_tooltip": null,
            "layout": "IPY_MODEL_b2a1dc1cbadc4bc0b66f9afbdf01308b",
            "placeholder": "​",
            "style": "IPY_MODEL_76a63c37106244308477ce98400412af",
            "value": " 608/608 [00:00&lt;00:00, 15.5kB/s]"
          }
        },
        "d910d26e4b894247b95000ee14ba2688": {
          "model_module": "@jupyter-widgets/base",
          "model_name": "LayoutModel",
          "model_module_version": "1.2.0",
          "state": {
            "_model_module": "@jupyter-widgets/base",
            "_model_module_version": "1.2.0",
            "_model_name": "LayoutModel",
            "_view_count": null,
            "_view_module": "@jupyter-widgets/base",
            "_view_module_version": "1.2.0",
            "_view_name": "LayoutView",
            "align_content": null,
            "align_items": null,
            "align_self": null,
            "border": null,
            "bottom": null,
            "display": null,
            "flex": null,
            "flex_flow": null,
            "grid_area": null,
            "grid_auto_columns": null,
            "grid_auto_flow": null,
            "grid_auto_rows": null,
            "grid_column": null,
            "grid_gap": null,
            "grid_row": null,
            "grid_template_areas": null,
            "grid_template_columns": null,
            "grid_template_rows": null,
            "height": null,
            "justify_content": null,
            "justify_items": null,
            "left": null,
            "margin": null,
            "max_height": null,
            "max_width": null,
            "min_height": null,
            "min_width": null,
            "object_fit": null,
            "object_position": null,
            "order": null,
            "overflow": null,
            "overflow_x": null,
            "overflow_y": null,
            "padding": null,
            "right": null,
            "top": null,
            "visibility": null,
            "width": null
          }
        },
        "205ec678c6aa4bd8830a999ed5851af5": {
          "model_module": "@jupyter-widgets/base",
          "model_name": "LayoutModel",
          "model_module_version": "1.2.0",
          "state": {
            "_model_module": "@jupyter-widgets/base",
            "_model_module_version": "1.2.0",
            "_model_name": "LayoutModel",
            "_view_count": null,
            "_view_module": "@jupyter-widgets/base",
            "_view_module_version": "1.2.0",
            "_view_name": "LayoutView",
            "align_content": null,
            "align_items": null,
            "align_self": null,
            "border": null,
            "bottom": null,
            "display": null,
            "flex": null,
            "flex_flow": null,
            "grid_area": null,
            "grid_auto_columns": null,
            "grid_auto_flow": null,
            "grid_auto_rows": null,
            "grid_column": null,
            "grid_gap": null,
            "grid_row": null,
            "grid_template_areas": null,
            "grid_template_columns": null,
            "grid_template_rows": null,
            "height": null,
            "justify_content": null,
            "justify_items": null,
            "left": null,
            "margin": null,
            "max_height": null,
            "max_width": null,
            "min_height": null,
            "min_width": null,
            "object_fit": null,
            "object_position": null,
            "order": null,
            "overflow": null,
            "overflow_x": null,
            "overflow_y": null,
            "padding": null,
            "right": null,
            "top": null,
            "visibility": null,
            "width": null
          }
        },
        "776dcfc5c5e54d4fb0af8515639c6b2b": {
          "model_module": "@jupyter-widgets/controls",
          "model_name": "DescriptionStyleModel",
          "model_module_version": "1.5.0",
          "state": {
            "_model_module": "@jupyter-widgets/controls",
            "_model_module_version": "1.5.0",
            "_model_name": "DescriptionStyleModel",
            "_view_count": null,
            "_view_module": "@jupyter-widgets/base",
            "_view_module_version": "1.2.0",
            "_view_name": "StyleView",
            "description_width": ""
          }
        },
        "d6fafc151f4840dabd4a32700ab018b3": {
          "model_module": "@jupyter-widgets/base",
          "model_name": "LayoutModel",
          "model_module_version": "1.2.0",
          "state": {
            "_model_module": "@jupyter-widgets/base",
            "_model_module_version": "1.2.0",
            "_model_name": "LayoutModel",
            "_view_count": null,
            "_view_module": "@jupyter-widgets/base",
            "_view_module_version": "1.2.0",
            "_view_name": "LayoutView",
            "align_content": null,
            "align_items": null,
            "align_self": null,
            "border": null,
            "bottom": null,
            "display": null,
            "flex": null,
            "flex_flow": null,
            "grid_area": null,
            "grid_auto_columns": null,
            "grid_auto_flow": null,
            "grid_auto_rows": null,
            "grid_column": null,
            "grid_gap": null,
            "grid_row": null,
            "grid_template_areas": null,
            "grid_template_columns": null,
            "grid_template_rows": null,
            "height": null,
            "justify_content": null,
            "justify_items": null,
            "left": null,
            "margin": null,
            "max_height": null,
            "max_width": null,
            "min_height": null,
            "min_width": null,
            "object_fit": null,
            "object_position": null,
            "order": null,
            "overflow": null,
            "overflow_x": null,
            "overflow_y": null,
            "padding": null,
            "right": null,
            "top": null,
            "visibility": null,
            "width": null
          }
        },
        "9abed98b6530471886c698500412755f": {
          "model_module": "@jupyter-widgets/controls",
          "model_name": "ProgressStyleModel",
          "model_module_version": "1.5.0",
          "state": {
            "_model_module": "@jupyter-widgets/controls",
            "_model_module_version": "1.5.0",
            "_model_name": "ProgressStyleModel",
            "_view_count": null,
            "_view_module": "@jupyter-widgets/base",
            "_view_module_version": "1.2.0",
            "_view_name": "StyleView",
            "bar_color": null,
            "description_width": ""
          }
        },
        "b2a1dc1cbadc4bc0b66f9afbdf01308b": {
          "model_module": "@jupyter-widgets/base",
          "model_name": "LayoutModel",
          "model_module_version": "1.2.0",
          "state": {
            "_model_module": "@jupyter-widgets/base",
            "_model_module_version": "1.2.0",
            "_model_name": "LayoutModel",
            "_view_count": null,
            "_view_module": "@jupyter-widgets/base",
            "_view_module_version": "1.2.0",
            "_view_name": "LayoutView",
            "align_content": null,
            "align_items": null,
            "align_self": null,
            "border": null,
            "bottom": null,
            "display": null,
            "flex": null,
            "flex_flow": null,
            "grid_area": null,
            "grid_auto_columns": null,
            "grid_auto_flow": null,
            "grid_auto_rows": null,
            "grid_column": null,
            "grid_gap": null,
            "grid_row": null,
            "grid_template_areas": null,
            "grid_template_columns": null,
            "grid_template_rows": null,
            "height": null,
            "justify_content": null,
            "justify_items": null,
            "left": null,
            "margin": null,
            "max_height": null,
            "max_width": null,
            "min_height": null,
            "min_width": null,
            "object_fit": null,
            "object_position": null,
            "order": null,
            "overflow": null,
            "overflow_x": null,
            "overflow_y": null,
            "padding": null,
            "right": null,
            "top": null,
            "visibility": null,
            "width": null
          }
        },
        "76a63c37106244308477ce98400412af": {
          "model_module": "@jupyter-widgets/controls",
          "model_name": "DescriptionStyleModel",
          "model_module_version": "1.5.0",
          "state": {
            "_model_module": "@jupyter-widgets/controls",
            "_model_module_version": "1.5.0",
            "_model_name": "DescriptionStyleModel",
            "_view_count": null,
            "_view_module": "@jupyter-widgets/base",
            "_view_module_version": "1.2.0",
            "_view_name": "StyleView",
            "description_width": ""
          }
        },
        "2fcad6c67b014b1fb0a1f94c49a4101a": {
          "model_module": "@jupyter-widgets/controls",
          "model_name": "HBoxModel",
          "model_module_version": "1.5.0",
          "state": {
            "_dom_classes": [],
            "_model_module": "@jupyter-widgets/controls",
            "_model_module_version": "1.5.0",
            "_model_name": "HBoxModel",
            "_view_count": null,
            "_view_module": "@jupyter-widgets/controls",
            "_view_module_version": "1.5.0",
            "_view_name": "HBoxView",
            "box_style": "",
            "children": [
              "IPY_MODEL_0c51d68c972940d6b0f80a978475fa50",
              "IPY_MODEL_efead88f35544148993721edb53587de",
              "IPY_MODEL_ef2cf3c6cd1f41a7a63bdea6dcec133c"
            ],
            "layout": "IPY_MODEL_58fb06c10d624776acc3a2a0e822a9cd"
          }
        },
        "0c51d68c972940d6b0f80a978475fa50": {
          "model_module": "@jupyter-widgets/controls",
          "model_name": "HTMLModel",
          "model_module_version": "1.5.0",
          "state": {
            "_dom_classes": [],
            "_model_module": "@jupyter-widgets/controls",
            "_model_module_version": "1.5.0",
            "_model_name": "HTMLModel",
            "_view_count": null,
            "_view_module": "@jupyter-widgets/controls",
            "_view_module_version": "1.5.0",
            "_view_name": "HTMLView",
            "description": "",
            "description_tooltip": null,
            "layout": "IPY_MODEL_a42037f85f554422bf45419765793a4b",
            "placeholder": "​",
            "style": "IPY_MODEL_81b6dd76725a4913a3970457885613aa",
            "value": "Downloading: 100%"
          }
        },
        "efead88f35544148993721edb53587de": {
          "model_module": "@jupyter-widgets/controls",
          "model_name": "FloatProgressModel",
          "model_module_version": "1.5.0",
          "state": {
            "_dom_classes": [],
            "_model_module": "@jupyter-widgets/controls",
            "_model_module_version": "1.5.0",
            "_model_name": "FloatProgressModel",
            "_view_count": null,
            "_view_module": "@jupyter-widgets/controls",
            "_view_module_version": "1.5.0",
            "_view_name": "ProgressView",
            "bar_style": "success",
            "description": "",
            "description_tooltip": null,
            "layout": "IPY_MODEL_d0ce9a75d48e432bacb9c644659ae297",
            "max": 551290714,
            "min": 0,
            "orientation": "horizontal",
            "style": "IPY_MODEL_4f5f8c7a30b44416a2f100053543ff00",
            "value": 551290714
          }
        },
        "ef2cf3c6cd1f41a7a63bdea6dcec133c": {
          "model_module": "@jupyter-widgets/controls",
          "model_name": "HTMLModel",
          "model_module_version": "1.5.0",
          "state": {
            "_dom_classes": [],
            "_model_module": "@jupyter-widgets/controls",
            "_model_module_version": "1.5.0",
            "_model_name": "HTMLModel",
            "_view_count": null,
            "_view_module": "@jupyter-widgets/controls",
            "_view_module_version": "1.5.0",
            "_view_name": "HTMLView",
            "description": "",
            "description_tooltip": null,
            "layout": "IPY_MODEL_3bd71ce15f204ea382e3696cbae1c6a4",
            "placeholder": "​",
            "style": "IPY_MODEL_acfc0915094b42059d2a31d87a7c44fa",
            "value": " 526M/526M [00:19&lt;00:00, 55.3MB/s]"
          }
        },
        "58fb06c10d624776acc3a2a0e822a9cd": {
          "model_module": "@jupyter-widgets/base",
          "model_name": "LayoutModel",
          "model_module_version": "1.2.0",
          "state": {
            "_model_module": "@jupyter-widgets/base",
            "_model_module_version": "1.2.0",
            "_model_name": "LayoutModel",
            "_view_count": null,
            "_view_module": "@jupyter-widgets/base",
            "_view_module_version": "1.2.0",
            "_view_name": "LayoutView",
            "align_content": null,
            "align_items": null,
            "align_self": null,
            "border": null,
            "bottom": null,
            "display": null,
            "flex": null,
            "flex_flow": null,
            "grid_area": null,
            "grid_auto_columns": null,
            "grid_auto_flow": null,
            "grid_auto_rows": null,
            "grid_column": null,
            "grid_gap": null,
            "grid_row": null,
            "grid_template_areas": null,
            "grid_template_columns": null,
            "grid_template_rows": null,
            "height": null,
            "justify_content": null,
            "justify_items": null,
            "left": null,
            "margin": null,
            "max_height": null,
            "max_width": null,
            "min_height": null,
            "min_width": null,
            "object_fit": null,
            "object_position": null,
            "order": null,
            "overflow": null,
            "overflow_x": null,
            "overflow_y": null,
            "padding": null,
            "right": null,
            "top": null,
            "visibility": null,
            "width": null
          }
        },
        "a42037f85f554422bf45419765793a4b": {
          "model_module": "@jupyter-widgets/base",
          "model_name": "LayoutModel",
          "model_module_version": "1.2.0",
          "state": {
            "_model_module": "@jupyter-widgets/base",
            "_model_module_version": "1.2.0",
            "_model_name": "LayoutModel",
            "_view_count": null,
            "_view_module": "@jupyter-widgets/base",
            "_view_module_version": "1.2.0",
            "_view_name": "LayoutView",
            "align_content": null,
            "align_items": null,
            "align_self": null,
            "border": null,
            "bottom": null,
            "display": null,
            "flex": null,
            "flex_flow": null,
            "grid_area": null,
            "grid_auto_columns": null,
            "grid_auto_flow": null,
            "grid_auto_rows": null,
            "grid_column": null,
            "grid_gap": null,
            "grid_row": null,
            "grid_template_areas": null,
            "grid_template_columns": null,
            "grid_template_rows": null,
            "height": null,
            "justify_content": null,
            "justify_items": null,
            "left": null,
            "margin": null,
            "max_height": null,
            "max_width": null,
            "min_height": null,
            "min_width": null,
            "object_fit": null,
            "object_position": null,
            "order": null,
            "overflow": null,
            "overflow_x": null,
            "overflow_y": null,
            "padding": null,
            "right": null,
            "top": null,
            "visibility": null,
            "width": null
          }
        },
        "81b6dd76725a4913a3970457885613aa": {
          "model_module": "@jupyter-widgets/controls",
          "model_name": "DescriptionStyleModel",
          "model_module_version": "1.5.0",
          "state": {
            "_model_module": "@jupyter-widgets/controls",
            "_model_module_version": "1.5.0",
            "_model_name": "DescriptionStyleModel",
            "_view_count": null,
            "_view_module": "@jupyter-widgets/base",
            "_view_module_version": "1.2.0",
            "_view_name": "StyleView",
            "description_width": ""
          }
        },
        "d0ce9a75d48e432bacb9c644659ae297": {
          "model_module": "@jupyter-widgets/base",
          "model_name": "LayoutModel",
          "model_module_version": "1.2.0",
          "state": {
            "_model_module": "@jupyter-widgets/base",
            "_model_module_version": "1.2.0",
            "_model_name": "LayoutModel",
            "_view_count": null,
            "_view_module": "@jupyter-widgets/base",
            "_view_module_version": "1.2.0",
            "_view_name": "LayoutView",
            "align_content": null,
            "align_items": null,
            "align_self": null,
            "border": null,
            "bottom": null,
            "display": null,
            "flex": null,
            "flex_flow": null,
            "grid_area": null,
            "grid_auto_columns": null,
            "grid_auto_flow": null,
            "grid_auto_rows": null,
            "grid_column": null,
            "grid_gap": null,
            "grid_row": null,
            "grid_template_areas": null,
            "grid_template_columns": null,
            "grid_template_rows": null,
            "height": null,
            "justify_content": null,
            "justify_items": null,
            "left": null,
            "margin": null,
            "max_height": null,
            "max_width": null,
            "min_height": null,
            "min_width": null,
            "object_fit": null,
            "object_position": null,
            "order": null,
            "overflow": null,
            "overflow_x": null,
            "overflow_y": null,
            "padding": null,
            "right": null,
            "top": null,
            "visibility": null,
            "width": null
          }
        },
        "4f5f8c7a30b44416a2f100053543ff00": {
          "model_module": "@jupyter-widgets/controls",
          "model_name": "ProgressStyleModel",
          "model_module_version": "1.5.0",
          "state": {
            "_model_module": "@jupyter-widgets/controls",
            "_model_module_version": "1.5.0",
            "_model_name": "ProgressStyleModel",
            "_view_count": null,
            "_view_module": "@jupyter-widgets/base",
            "_view_module_version": "1.2.0",
            "_view_name": "StyleView",
            "bar_color": null,
            "description_width": ""
          }
        },
        "3bd71ce15f204ea382e3696cbae1c6a4": {
          "model_module": "@jupyter-widgets/base",
          "model_name": "LayoutModel",
          "model_module_version": "1.2.0",
          "state": {
            "_model_module": "@jupyter-widgets/base",
            "_model_module_version": "1.2.0",
            "_model_name": "LayoutModel",
            "_view_count": null,
            "_view_module": "@jupyter-widgets/base",
            "_view_module_version": "1.2.0",
            "_view_name": "LayoutView",
            "align_content": null,
            "align_items": null,
            "align_self": null,
            "border": null,
            "bottom": null,
            "display": null,
            "flex": null,
            "flex_flow": null,
            "grid_area": null,
            "grid_auto_columns": null,
            "grid_auto_flow": null,
            "grid_auto_rows": null,
            "grid_column": null,
            "grid_gap": null,
            "grid_row": null,
            "grid_template_areas": null,
            "grid_template_columns": null,
            "grid_template_rows": null,
            "height": null,
            "justify_content": null,
            "justify_items": null,
            "left": null,
            "margin": null,
            "max_height": null,
            "max_width": null,
            "min_height": null,
            "min_width": null,
            "object_fit": null,
            "object_position": null,
            "order": null,
            "overflow": null,
            "overflow_x": null,
            "overflow_y": null,
            "padding": null,
            "right": null,
            "top": null,
            "visibility": null,
            "width": null
          }
        },
        "acfc0915094b42059d2a31d87a7c44fa": {
          "model_module": "@jupyter-widgets/controls",
          "model_name": "DescriptionStyleModel",
          "model_module_version": "1.5.0",
          "state": {
            "_model_module": "@jupyter-widgets/controls",
            "_model_module_version": "1.5.0",
            "_model_name": "DescriptionStyleModel",
            "_view_count": null,
            "_view_module": "@jupyter-widgets/base",
            "_view_module_version": "1.2.0",
            "_view_name": "StyleView",
            "description_width": ""
          }
        }
      }
    }
  },
  "nbformat": 4,
  "nbformat_minor": 5
}